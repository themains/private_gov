{
 "cells": [
  {
   "cell_type": "code",
   "execution_count": 1,
   "id": "c2a53cbb",
   "metadata": {
    "ExecuteTime": {
     "end_time": "2025-05-08T01:17:12.537927Z",
     "start_time": "2025-05-08T01:17:11.937680Z"
    }
   },
   "outputs": [],
   "source": [
    "import pandas as pd\n",
    "from urllib.parse import urlparse\n",
    "from urllib3.util.retry import Retry\n",
    "from requests.adapters import HTTPAdapter\n",
    "from tqdm.notebook import tqdm\n",
    "import requests\n",
    "import os\n",
    "from typing import List, Tuple\n",
    "import numpy as np"
   ]
  },
  {
   "cell_type": "code",
   "execution_count": 14,
   "id": "9d3e5b23",
   "metadata": {
    "ExecuteTime": {
     "end_time": "2025-05-08T01:27:22.693423Z",
     "start_time": "2025-05-08T01:27:22.690339Z"
    }
   },
   "outputs": [],
   "source": [
    "def is_excluded_url(url: str) -> int:\n",
    "    \"\"\"\n",
    "    Returns 1 if the URL should be excluded based on file extension or known static filename; else 0.\n",
    "    \"\"\"\n",
    "    excluded_exts = [\n",
    "        \"pdf\", \"doc\", \"docx\", \"xls\", \"xlsx\", \"ppt\", \"pptx\",   # Office files\n",
    "        \"txt\", \"csv\", \"tsv\", \"rtf\", \"xml\", \"json\", \"md\",       # Text/data\n",
    "        \"jpg\", \"jpeg\", \"png\", \"gif\", \"bmp\", \"svg\", \"webp\",    # Images\n",
    "        \"mp3\", \"mp4\", \"avi\", \"mov\", \"wmv\", \"mkv\", \"webm\",     # Media\n",
    "        \"zip\", \"rar\", \"gz\", \"tar\", \"7z\",                      # Archives\n",
    "        \"exe\", \"bin\", \"iso\", \"apk\", \"dmg\", \"msi\",             # Binaries\n",
    "        \"css\", \"js\"                                           # Code/static resources\n",
    "    ]\n",
    "\n",
    "    special_excludes = {\n",
    "        \"robots.txt\", \"sitemap.xml\", \"ads.txt\", \"favicon.ico\"\n",
    "    }\n",
    "\n",
    "    path = urlparse(url).path.lower()\n",
    "    basename = os.path.basename(path)\n",
    "\n",
    "    if basename in special_excludes:\n",
    "        return 1\n",
    "    elif any(basename.endswith(\".\" + ext) for ext in excluded_exts):\n",
    "        return 1\n",
    "    return 0"
   ]
  },
  {
   "cell_type": "code",
   "execution_count": 15,
   "id": "98f62a65",
   "metadata": {
    "ExecuteTime": {
     "end_time": "2025-05-08T01:27:23.103158Z",
     "start_time": "2025-05-08T01:27:23.100182Z"
    }
   },
   "outputs": [],
   "source": [
    "def make_retry_session(\n",
    "    retries=3,\n",
    "    backoff_factor=0.5,\n",
    "    status_forcelist=(\n",
    "        # Server-side errors to retry on\n",
    "        500,  # Internal Server Error – generic backend failure\n",
    "        502,  # Bad Gateway – invalid response from upstream server\n",
    "        503,  # Service Unavailable – server temporarily overloaded or down\n",
    "        504   # Gateway Timeout – upstream server didn’t respond in time\n",
    "    ),\n",
    ") -> requests.Session:\n",
    "    \"\"\"\n",
    "    Creates a requests.Session with retry behavior on specific transient errors.\n",
    "\n",
    "    Parameters\n",
    "    ----------\n",
    "    retries : int\n",
    "        Number of total retry attempts for each request.\n",
    "    backoff_factor : float\n",
    "        Factor to apply for exponential backoff between retries.\n",
    "    status_forcelist : tuple\n",
    "        HTTP status codes that should trigger a retry:\n",
    "            500: Internal Server Error\n",
    "            502: Bad Gateway\n",
    "            503: Service Unavailable\n",
    "            504: Gateway Timeout\n",
    "\n",
    "    Returns\n",
    "    -------\n",
    "    session : requests.Session\n",
    "        A session object with retry logic configured for connection issues and 5xx errors.\n",
    "    \"\"\"\n",
    "    retry = Retry(\n",
    "        total=retries,\n",
    "        read=retries,\n",
    "        connect=retries,\n",
    "        backoff_factor=backoff_factor,\n",
    "        status_forcelist=status_forcelist,\n",
    "        allowed_methods=frozenset(['HEAD', 'GET']),  # Retry only on safe idempotent methods\n",
    "        raise_on_status=False,\n",
    "    )\n",
    "\n",
    "    adapter = HTTPAdapter(max_retries=retry)\n",
    "    session = requests.Session()\n",
    "    session.mount(\"https://\", adapter)\n",
    "    session.mount(\"http://\", adapter)\n",
    "    return session"
   ]
  },
  {
   "cell_type": "code",
   "execution_count": 16,
   "id": "0136f697",
   "metadata": {
    "ExecuteTime": {
     "end_time": "2025-05-08T01:27:24.884965Z",
     "start_time": "2025-05-08T01:27:24.709138Z"
    },
    "scrolled": true
   },
   "outputs": [
    {
     "data": {
      "text/html": [
       "<div>\n",
       "<style scoped>\n",
       "    .dataframe tbody tr th:only-of-type {\n",
       "        vertical-align: middle;\n",
       "    }\n",
       "\n",
       "    .dataframe tbody tr th {\n",
       "        vertical-align: top;\n",
       "    }\n",
       "\n",
       "    .dataframe thead th {\n",
       "        text-align: right;\n",
       "    }\n",
       "</style>\n",
       "<table border=\"1\" class=\"dataframe\">\n",
       "  <thead>\n",
       "    <tr style=\"text-align: right;\">\n",
       "      <th></th>\n",
       "      <th>urlkey</th>\n",
       "      <th>timestamp</th>\n",
       "      <th>url</th>\n",
       "      <th>mime</th>\n",
       "      <th>mime-detected</th>\n",
       "      <th>status</th>\n",
       "      <th>digest</th>\n",
       "      <th>length</th>\n",
       "      <th>offset</th>\n",
       "      <th>filename</th>\n",
       "      <th>country</th>\n",
       "      <th>pattern</th>\n",
       "      <th>languages</th>\n",
       "      <th>encoding</th>\n",
       "      <th>redirect</th>\n",
       "      <th>truncated</th>\n",
       "      <th>excluded_ext</th>\n",
       "      <th>text_html_content</th>\n",
       "    </tr>\n",
       "  </thead>\n",
       "  <tbody>\n",
       "    <tr>\n",
       "      <th>0</th>\n",
       "      <td>af,gov,moj)/content/files/crpd.pdf</td>\n",
       "      <td>20240714034654</td>\n",
       "      <td>https://moj.gov.af/Content/files/CRPD.pdf</td>\n",
       "      <td>text/html</td>\n",
       "      <td>text/html</td>\n",
       "      <td>404</td>\n",
       "      <td>GY5DQ2BNNLQPCCOAYY3FTL43EN6DI5LO</td>\n",
       "      <td>8518</td>\n",
       "      <td>13208486</td>\n",
       "      <td>crawl-data/CC-MAIN-2024-30/segments/1720763514...</td>\n",
       "      <td>Afghanistan</td>\n",
       "      <td>*.gov.af</td>\n",
       "      <td>NaN</td>\n",
       "      <td>NaN</td>\n",
       "      <td>NaN</td>\n",
       "      <td>NaN</td>\n",
       "      <td>1</td>\n",
       "      <td>NaN</td>\n",
       "    </tr>\n",
       "    <tr>\n",
       "      <th>1</th>\n",
       "      <td>af,gov,mfa,islamabad)/introductory-meeting-of-...</td>\n",
       "      <td>20240723080327</td>\n",
       "      <td>https://islamabad.mfa.gov.af/introductory-meet...</td>\n",
       "      <td>text/html</td>\n",
       "      <td>text/html</td>\n",
       "      <td>200</td>\n",
       "      <td>4VOGNJXYP5M74XLAL7FZCLYDKLQQ77XU</td>\n",
       "      <td>19902</td>\n",
       "      <td>266134915</td>\n",
       "      <td>crawl-data/CC-MAIN-2024-30/segments/1720763518...</td>\n",
       "      <td>Afghanistan</td>\n",
       "      <td>*.gov.af</td>\n",
       "      <td>eng</td>\n",
       "      <td>UTF-8</td>\n",
       "      <td>NaN</td>\n",
       "      <td>NaN</td>\n",
       "      <td>0</td>\n",
       "      <td>NaN</td>\n",
       "    </tr>\n",
       "    <tr>\n",
       "      <th>2</th>\n",
       "      <td>af,gov,mfa)/en/category/breaking-news</td>\n",
       "      <td>20240721095153</td>\n",
       "      <td>https://mfa.gov.af/en/category/breaking-news/</td>\n",
       "      <td>text/html</td>\n",
       "      <td>text/html</td>\n",
       "      <td>301</td>\n",
       "      <td>3I42H3S6NNFQ2MSVX7XZKYAYSCX5QBYJ</td>\n",
       "      <td>736</td>\n",
       "      <td>13362462</td>\n",
       "      <td>crawl-data/CC-MAIN-2024-30/segments/1720763517...</td>\n",
       "      <td>Afghanistan</td>\n",
       "      <td>*.gov.af</td>\n",
       "      <td>NaN</td>\n",
       "      <td>NaN</td>\n",
       "      <td>https://mfa.gov.af/en/category/breaking-news</td>\n",
       "      <td>NaN</td>\n",
       "      <td>0</td>\n",
       "      <td>NaN</td>\n",
       "    </tr>\n",
       "    <tr>\n",
       "      <th>3</th>\n",
       "      <td>af,gov,mudh)/dr/%d8%a8%d8%b1%d9%86%d8%a7%d9%85...</td>\n",
       "      <td>20240719083155</td>\n",
       "      <td>https://mudh.gov.af/dr/%D8%A8%D8%B1%D9%86%D8%A...</td>\n",
       "      <td>text/html</td>\n",
       "      <td>text/html</td>\n",
       "      <td>200</td>\n",
       "      <td>I5ZMS44OMMVMBHOCXUYUZO45BSQCR653</td>\n",
       "      <td>9659</td>\n",
       "      <td>371362517</td>\n",
       "      <td>crawl-data/CC-MAIN-2024-30/segments/1720763514...</td>\n",
       "      <td>Afghanistan</td>\n",
       "      <td>*.gov.af</td>\n",
       "      <td>fas,eng,pus</td>\n",
       "      <td>UTF-8</td>\n",
       "      <td>NaN</td>\n",
       "      <td>NaN</td>\n",
       "      <td>0</td>\n",
       "      <td>NaN</td>\n",
       "    </tr>\n",
       "    <tr>\n",
       "      <th>4</th>\n",
       "      <td>af,gov,mail)/en/node/13864</td>\n",
       "      <td>20240724090703</td>\n",
       "      <td>https://mail.gov.af/en/node/13864</td>\n",
       "      <td>text/html</td>\n",
       "      <td>text/html</td>\n",
       "      <td>200</td>\n",
       "      <td>WWGQY3A4YWEINGJCFBJHGCW4ELBGXOTU</td>\n",
       "      <td>8188</td>\n",
       "      <td>322912422</td>\n",
       "      <td>crawl-data/CC-MAIN-2024-30/segments/1720763518...</td>\n",
       "      <td>Afghanistan</td>\n",
       "      <td>*.gov.af</td>\n",
       "      <td>eng,fas</td>\n",
       "      <td>UTF-8</td>\n",
       "      <td>NaN</td>\n",
       "      <td>NaN</td>\n",
       "      <td>0</td>\n",
       "      <td>NaN</td>\n",
       "    </tr>\n",
       "  </tbody>\n",
       "</table>\n",
       "</div>"
      ],
      "text/plain": [
       "                                              urlkey       timestamp  \\\n",
       "0                 af,gov,moj)/content/files/crpd.pdf  20240714034654   \n",
       "1  af,gov,mfa,islamabad)/introductory-meeting-of-...  20240723080327   \n",
       "2              af,gov,mfa)/en/category/breaking-news  20240721095153   \n",
       "3  af,gov,mudh)/dr/%d8%a8%d8%b1%d9%86%d8%a7%d9%85...  20240719083155   \n",
       "4                         af,gov,mail)/en/node/13864  20240724090703   \n",
       "\n",
       "                                                 url       mime mime-detected  \\\n",
       "0          https://moj.gov.af/Content/files/CRPD.pdf  text/html     text/html   \n",
       "1  https://islamabad.mfa.gov.af/introductory-meet...  text/html     text/html   \n",
       "2      https://mfa.gov.af/en/category/breaking-news/  text/html     text/html   \n",
       "3  https://mudh.gov.af/dr/%D8%A8%D8%B1%D9%86%D8%A...  text/html     text/html   \n",
       "4                  https://mail.gov.af/en/node/13864  text/html     text/html   \n",
       "\n",
       "   status                            digest  length     offset  \\\n",
       "0     404  GY5DQ2BNNLQPCCOAYY3FTL43EN6DI5LO    8518   13208486   \n",
       "1     200  4VOGNJXYP5M74XLAL7FZCLYDKLQQ77XU   19902  266134915   \n",
       "2     301  3I42H3S6NNFQ2MSVX7XZKYAYSCX5QBYJ     736   13362462   \n",
       "3     200  I5ZMS44OMMVMBHOCXUYUZO45BSQCR653    9659  371362517   \n",
       "4     200  WWGQY3A4YWEINGJCFBJHGCW4ELBGXOTU    8188  322912422   \n",
       "\n",
       "                                            filename      country   pattern  \\\n",
       "0  crawl-data/CC-MAIN-2024-30/segments/1720763514...  Afghanistan  *.gov.af   \n",
       "1  crawl-data/CC-MAIN-2024-30/segments/1720763518...  Afghanistan  *.gov.af   \n",
       "2  crawl-data/CC-MAIN-2024-30/segments/1720763517...  Afghanistan  *.gov.af   \n",
       "3  crawl-data/CC-MAIN-2024-30/segments/1720763514...  Afghanistan  *.gov.af   \n",
       "4  crawl-data/CC-MAIN-2024-30/segments/1720763518...  Afghanistan  *.gov.af   \n",
       "\n",
       "     languages encoding                                      redirect  \\\n",
       "0          NaN      NaN                                           NaN   \n",
       "1          eng    UTF-8                                           NaN   \n",
       "2          NaN      NaN  https://mfa.gov.af/en/category/breaking-news   \n",
       "3  fas,eng,pus    UTF-8                                           NaN   \n",
       "4      eng,fas    UTF-8                                           NaN   \n",
       "\n",
       "  truncated  excluded_ext  text_html_content  \n",
       "0       NaN             1                NaN  \n",
       "1       NaN             0                NaN  \n",
       "2       NaN             0                NaN  \n",
       "3       NaN             0                NaN  \n",
       "4       NaN             0                NaN  "
      ]
     },
     "execution_count": 16,
     "metadata": {},
     "output_type": "execute_result"
    }
   ],
   "source": [
    "df = (\n",
    "    pd.read_csv(\"../data/common_crawl_sample.csv\")\n",
    "    .drop_duplicates(\"url\", ignore_index=True)\n",
    "    .assign(\n",
    "        excluded_ext=lambda df_: df_[\"url\"].apply(is_excluded_url),\n",
    "        text_html_content=np.nan,\n",
    "    )\n",
    ")\n",
    "df.head(5)"
   ]
  },
  {
   "cell_type": "code",
   "execution_count": 7,
   "id": "22597fd9",
   "metadata": {
    "ExecuteTime": {
     "end_time": "2025-05-08T01:25:37.470395Z",
     "start_time": "2025-05-08T01:25:37.468286Z"
    }
   },
   "outputs": [],
   "source": [
    "import urllib3\n",
    "urllib3.disable_warnings(urllib3.exceptions.InsecureRequestWarning)"
   ]
  },
  {
   "cell_type": "code",
   "execution_count": null,
   "id": "d1d39651",
   "metadata": {
    "ExecuteTime": {
     "start_time": "2025-05-08T04:50:52.261Z"
    },
    "code_folding": []
   },
   "outputs": [
    {
     "data": {
      "application/vnd.jupyter.widget-view+json": {
       "model_id": "b8db31e101054a08bb7f499e2450c5b2",
       "version_major": 2,
       "version_minor": 0
      },
      "text/plain": [
       "Checking content type:   0%|          | 0/15663 [00:00<?, ?it/s]"
      ]
     },
     "metadata": {},
     "output_type": "display_data"
    }
   ],
   "source": [
    "savepath = \"../data/check_cc_url_contenttype.csv\"\n",
    "df = pd.read_csv(savepath)\n",
    "save_every = 100\n",
    "session = make_retry_session()\n",
    "\n",
    "for ix, row in tqdm(df.iterrows(), total=len(df), desc=\"Checking content type\"):\n",
    "    # skip if excluded via extension\n",
    "    if row[\"excluded_ext\"]==1:\n",
    "        continue\n",
    "    # skip if confirmed text/html\n",
    "    if pd.notna(row[\"text_html_content\"]):\n",
    "        continue\n",
    "        \n",
    "    try:\n",
    "        r = session.head(\n",
    "            row[\"url\"], \n",
    "            allow_redirects=True, \n",
    "            timeout=(3, 5),  # (connect timeout, read timeout)\n",
    "            verify=False\n",
    "        )\n",
    "        content_type = r.headers.get(\"Content-Type\", \"\").lower()\n",
    "        df.at[ix, \"text_html_content\"] = int(\"text/html\" in content_type)\n",
    "    except requests.RequestException:\n",
    "        df.at[ix, \"text_html_content\"] = 0\n",
    "        \n",
    "# Save every N rows\n",
    "    if ix % save_every == 0:\n",
    "        df.to_csv(savepath, index=False)        "
   ]
  },
  {
   "cell_type": "code",
   "execution_count": 21,
   "id": "ccf989b7",
   "metadata": {
    "ExecuteTime": {
     "end_time": "2025-05-08T04:25:43.077672Z",
     "start_time": "2025-05-08T04:25:43.072448Z"
    }
   },
   "outputs": [
    {
     "data": {
      "text/plain": [
       "328"
      ]
     },
     "execution_count": 21,
     "metadata": {},
     "output_type": "execute_result"
    }
   ],
   "source": [
    "len(df.query(\"text_html_content==1\"))"
   ]
  },
  {
   "cell_type": "code",
   "execution_count": 22,
   "id": "ce03f299",
   "metadata": {
    "ExecuteTime": {
     "end_time": "2025-05-08T04:25:47.542072Z",
     "start_time": "2025-05-08T04:25:47.537123Z"
    }
   },
   "outputs": [
    {
     "data": {
      "text/plain": [
       "151"
      ]
     },
     "execution_count": 22,
     "metadata": {},
     "output_type": "execute_result"
    }
   ],
   "source": [
    "len(df.query(\"text_html_content==0\"))"
   ]
  },
  {
   "cell_type": "code",
   "execution_count": null,
   "id": "faabc49e",
   "metadata": {},
   "outputs": [],
   "source": []
  },
  {
   "cell_type": "code",
   "execution_count": null,
   "id": "e737f458",
   "metadata": {},
   "outputs": [],
   "source": []
  },
  {
   "cell_type": "code",
   "execution_count": null,
   "id": "694aeb93",
   "metadata": {},
   "outputs": [],
   "source": []
  },
  {
   "cell_type": "code",
   "execution_count": null,
   "id": "277ba98d",
   "metadata": {},
   "outputs": [],
   "source": []
  },
  {
   "cell_type": "code",
   "execution_count": null,
   "id": "fd84f91a",
   "metadata": {},
   "outputs": [],
   "source": []
  },
  {
   "cell_type": "code",
   "execution_count": null,
   "id": "a510ea3c",
   "metadata": {},
   "outputs": [],
   "source": []
  },
  {
   "cell_type": "code",
   "execution_count": null,
   "id": "300dba2d",
   "metadata": {},
   "outputs": [],
   "source": []
  },
  {
   "cell_type": "code",
   "execution_count": null,
   "id": "f1f19ca5",
   "metadata": {},
   "outputs": [],
   "source": []
  },
  {
   "cell_type": "code",
   "execution_count": null,
   "id": "62fd00ba",
   "metadata": {},
   "outputs": [],
   "source": []
  },
  {
   "cell_type": "code",
   "execution_count": null,
   "id": "00549f11",
   "metadata": {},
   "outputs": [],
   "source": []
  },
  {
   "cell_type": "code",
   "execution_count": null,
   "id": "2da6c55e",
   "metadata": {},
   "outputs": [],
   "source": []
  },
  {
   "cell_type": "code",
   "execution_count": null,
   "id": "e9d302c0",
   "metadata": {},
   "outputs": [],
   "source": []
  },
  {
   "cell_type": "code",
   "execution_count": null,
   "id": "5654785a",
   "metadata": {},
   "outputs": [],
   "source": []
  },
  {
   "cell_type": "code",
   "execution_count": null,
   "id": "b7839050",
   "metadata": {},
   "outputs": [],
   "source": []
  },
  {
   "cell_type": "code",
   "execution_count": null,
   "id": "9adfc6b7",
   "metadata": {},
   "outputs": [],
   "source": []
  }
 ],
 "metadata": {
  "kernelspec": {
   "display_name": "Python (venv)",
   "language": "python",
   "name": "venv"
  },
  "language_info": {
   "codemirror_mode": {
    "name": "ipython",
    "version": 3
   },
   "file_extension": ".py",
   "mimetype": "text/x-python",
   "name": "python",
   "nbconvert_exporter": "python",
   "pygments_lexer": "ipython3",
   "version": "3.10.11"
  },
  "toc": {
   "base_numbering": 1,
   "nav_menu": {},
   "number_sections": true,
   "sideBar": true,
   "skip_h1_title": false,
   "title_cell": "Table of Contents",
   "title_sidebar": "Contents",
   "toc_cell": false,
   "toc_position": {},
   "toc_section_display": true,
   "toc_window_display": false
  }
 },
 "nbformat": 4,
 "nbformat_minor": 5
}
