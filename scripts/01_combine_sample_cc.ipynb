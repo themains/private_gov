{
 "cells": [
  {
   "cell_type": "markdown",
   "id": "483cd17a-9f6c-4053-80dd-db96f33ad28d",
   "metadata": {},
   "source": [
    "## Common Crawl Collapse"
   ]
  },
  {
   "cell_type": "code",
   "execution_count": 1,
   "id": "1f54686c-a4f9-492c-9e3d-ee0bfed26829",
   "metadata": {
    "ExecuteTime": {
     "end_time": "2025-07-14T12:03:35.846323Z",
     "start_time": "2025-07-14T12:03:34.571622Z"
    }
   },
   "outputs": [],
   "source": [
    "import numpy as np\n",
    "import pandas as pd\n",
    "import janitor\n",
    "from pathlib import Path\n",
    "from IPython.display import display\n",
    "from utilities import url_is_html"
   ]
  },
  {
   "cell_type": "code",
   "execution_count": 2,
   "id": "f611aead-bcca-42ce-84ce-509253850510",
   "metadata": {
    "ExecuteTime": {
     "end_time": "2025-07-14T12:03:36.802694Z",
     "start_time": "2025-07-14T12:03:36.795699Z"
    }
   },
   "outputs": [],
   "source": [
    "def combine_parquet_files_to_df(parquet_folder):\n",
    "    \"\"\"\n",
    "    Iterates over all Parquet files in the specified folder and combines them into a single DataFrame.\n",
    "\n",
    "    Args:\n",
    "        parquet_folder (str): Path to the folder containing Parquet files.\n",
    "\n",
    "    Returns:\n",
    "        pandas.DataFrame: The combined DataFrame.\n",
    "    \"\"\"\n",
    "    folder = Path(parquet_folder)\n",
    "    parquet_files = list(folder.glob(\"*.parquet\"))\n",
    "    print(f\"Found {len(parquet_files)} Parquet files to process.\")\n",
    "\n",
    "    df_list = []\n",
    "    for file in parquet_files:\n",
    "        try:\n",
    "            df = pd.read_parquet(file)\n",
    "            df_list.append(df)\n",
    "        except Exception as e:\n",
    "            print(f\"Error reading {file}: {e}\")\n",
    "\n",
    "    combined_df = pd.concat(df_list, ignore_index=True)\n",
    "    return combined_df"
   ]
  },
  {
   "cell_type": "code",
   "execution_count": 3,
   "id": "2801114e-1e5f-457d-89ed-5b7e6784660c",
   "metadata": {
    "ExecuteTime": {
     "end_time": "2025-07-14T12:05:16.788897Z",
     "start_time": "2025-07-14T12:03:37.675191Z"
    }
   },
   "outputs": [
    {
     "name": "stdout",
     "output_type": "stream",
     "text": [
      "Found 166 Parquet files to process.\n"
     ]
    },
    {
     "data": {
      "text/html": [
       "<div>\n",
       "<style scoped>\n",
       "    .dataframe tbody tr th:only-of-type {\n",
       "        vertical-align: middle;\n",
       "    }\n",
       "\n",
       "    .dataframe tbody tr th {\n",
       "        vertical-align: top;\n",
       "    }\n",
       "\n",
       "    .dataframe thead th {\n",
       "        text-align: right;\n",
       "    }\n",
       "</style>\n",
       "<table border=\"1\" class=\"dataframe\">\n",
       "  <thead>\n",
       "    <tr style=\"text-align: right;\">\n",
       "      <th></th>\n",
       "      <th>urlkey</th>\n",
       "      <th>timestamp</th>\n",
       "      <th>url</th>\n",
       "      <th>mime</th>\n",
       "      <th>mime-detected</th>\n",
       "      <th>status</th>\n",
       "      <th>digest</th>\n",
       "      <th>length</th>\n",
       "      <th>offset</th>\n",
       "      <th>filename</th>\n",
       "      <th>languages</th>\n",
       "      <th>encoding</th>\n",
       "      <th>country</th>\n",
       "      <th>pattern</th>\n",
       "      <th>truncated</th>\n",
       "      <th>redirect</th>\n",
       "    </tr>\n",
       "  </thead>\n",
       "  <tbody>\n",
       "    <tr>\n",
       "      <th>0</th>\n",
       "      <td>mn,gov,aaib)/</td>\n",
       "      <td>20240725015042</td>\n",
       "      <td>http://aaib.gov.mn/</td>\n",
       "      <td>text/html</td>\n",
       "      <td>text/html</td>\n",
       "      <td>200</td>\n",
       "      <td>P2RZ6DWRMUESDBRSN3EZT2CJA3WDMXLH</td>\n",
       "      <td>7261</td>\n",
       "      <td>1185280</td>\n",
       "      <td>crawl-data/CC-MAIN-2024-30/segments/1720763518...</td>\n",
       "      <td>mon,eng</td>\n",
       "      <td>UTF-8</td>\n",
       "      <td>Mongolia</td>\n",
       "      <td>*.gov.mn</td>\n",
       "      <td>None</td>\n",
       "      <td>None</td>\n",
       "    </tr>\n",
       "    <tr>\n",
       "      <th>1</th>\n",
       "      <td>mn,gov,aaib)/?cat=21</td>\n",
       "      <td>20240725015116</td>\n",
       "      <td>http://aaib.gov.mn/?cat=21</td>\n",
       "      <td>text/html</td>\n",
       "      <td>text/html</td>\n",
       "      <td>200</td>\n",
       "      <td>PXG5YAFN53QYJEOKW5YIRKEXK5D4BW5I</td>\n",
       "      <td>7265</td>\n",
       "      <td>769967</td>\n",
       "      <td>crawl-data/CC-MAIN-2024-30/segments/1720763518...</td>\n",
       "      <td>mon,eng</td>\n",
       "      <td>UTF-8</td>\n",
       "      <td>Mongolia</td>\n",
       "      <td>*.gov.mn</td>\n",
       "      <td>None</td>\n",
       "      <td>None</td>\n",
       "    </tr>\n",
       "    <tr>\n",
       "      <th>2</th>\n",
       "      <td>mn,gov,aaib)/?cat=34</td>\n",
       "      <td>20240724233612</td>\n",
       "      <td>https://aaib.gov.mn/?cat=34</td>\n",
       "      <td>text/html</td>\n",
       "      <td>text/html</td>\n",
       "      <td>200</td>\n",
       "      <td>VNPQMWRUILOEFAVTE53LPQARSATHRWGR</td>\n",
       "      <td>7309</td>\n",
       "      <td>66511033</td>\n",
       "      <td>crawl-data/CC-MAIN-2024-30/segments/1720763518...</td>\n",
       "      <td>mon,eng</td>\n",
       "      <td>UTF-8</td>\n",
       "      <td>Mongolia</td>\n",
       "      <td>*.gov.mn</td>\n",
       "      <td>None</td>\n",
       "      <td>None</td>\n",
       "    </tr>\n",
       "  </tbody>\n",
       "</table>\n",
       "</div>"
      ],
      "text/plain": [
       "                 urlkey       timestamp                          url  \\\n",
       "0         mn,gov,aaib)/  20240725015042          http://aaib.gov.mn/   \n",
       "1  mn,gov,aaib)/?cat=21  20240725015116   http://aaib.gov.mn/?cat=21   \n",
       "2  mn,gov,aaib)/?cat=34  20240724233612  https://aaib.gov.mn/?cat=34   \n",
       "\n",
       "        mime mime-detected status                            digest length  \\\n",
       "0  text/html     text/html    200  P2RZ6DWRMUESDBRSN3EZT2CJA3WDMXLH   7261   \n",
       "1  text/html     text/html    200  PXG5YAFN53QYJEOKW5YIRKEXK5D4BW5I   7265   \n",
       "2  text/html     text/html    200  VNPQMWRUILOEFAVTE53LPQARSATHRWGR   7309   \n",
       "\n",
       "     offset                                           filename languages  \\\n",
       "0   1185280  crawl-data/CC-MAIN-2024-30/segments/1720763518...   mon,eng   \n",
       "1    769967  crawl-data/CC-MAIN-2024-30/segments/1720763518...   mon,eng   \n",
       "2  66511033  crawl-data/CC-MAIN-2024-30/segments/1720763518...   mon,eng   \n",
       "\n",
       "  encoding   country   pattern truncated redirect  \n",
       "0    UTF-8  Mongolia  *.gov.mn      None     None  \n",
       "1    UTF-8  Mongolia  *.gov.mn      None     None  \n",
       "2    UTF-8  Mongolia  *.gov.mn      None     None  "
      ]
     },
     "metadata": {},
     "output_type": "display_data"
    },
    {
     "name": "stdout",
     "output_type": "stream",
     "text": [
      "Combined DataFrame shape: (27177089, 16)\n"
     ]
    }
   ],
   "source": [
    "folder_path = \"../data/common_crawl\"\n",
    "combined_df = combine_parquet_files_to_df(folder_path)\n",
    "display(combined_df.head(3))\n",
    "print(f\"Combined DataFrame shape: {combined_df.shape}\")"
   ]
  },
  {
   "cell_type": "code",
   "execution_count": 4,
   "id": "e45ad025",
   "metadata": {
    "ExecuteTime": {
     "end_time": "2025-07-14T12:07:16.551039Z",
     "start_time": "2025-07-14T12:05:16.790999Z"
    }
   },
   "outputs": [],
   "source": [
    "combined_df[\"is_html\"] = combined_df[\"url\"].map(url_is_html)"
   ]
  },
  {
   "cell_type": "code",
   "execution_count": 5,
   "id": "3acb9e7d",
   "metadata": {
    "ExecuteTime": {
     "end_time": "2025-07-14T12:07:50.658553Z",
     "start_time": "2025-07-14T12:07:16.552546Z"
    }
   },
   "outputs": [
    {
     "name": "stdout",
     "output_type": "stream",
     "text": [
      "25,221,114 rows are HTML (92.8% of 27,177,089 total rows)\n"
     ]
    }
   ],
   "source": [
    "n_total = len(combined_df)\n",
    "n_html = len(combined_df.query(\"is_html == True\"))\n",
    "pct_html = n_html / n_total * 100\n",
    "\n",
    "print(f\"{n_html:,} rows are HTML ({pct_html:.1f}% of {n_total:,} total rows)\")"
   ]
  },
  {
   "cell_type": "code",
   "execution_count": 6,
   "id": "e8962c31-bdf3-4346-a873-bca6f6ad7b15",
   "metadata": {
    "ExecuteTime": {
     "end_time": "2025-07-14T12:09:21.932227Z",
     "start_time": "2025-07-14T12:07:50.660606Z"
    },
    "scrolled": true
   },
   "outputs": [
    {
     "name": "stderr",
     "output_type": "stream",
     "text": [
      "/home/lsys/private_gov/venv_prigov/lib/python3.10/site-packages/pandas_flavor/register.py:164: FutureWarning: This function will be deprecated in a 1.x release. Please use `pd.DataFrame.drop` instead.\n",
      "  return method(self._obj, *args, **kwargs)\n"
     ]
    },
    {
     "name": "stdout",
     "output_type": "stream",
     "text": [
      "country\n",
      "Afghanistan      1000\n",
      "Albania          1000\n",
      "Algeria          1000\n",
      "Angola           1000\n",
      "Argentina        1000\n",
      "                 ... \n",
      "Tajikistan        195\n",
      "Djibouti          185\n",
      "Denmark            65\n",
      "Guinea-Bissau       5\n",
      "Finland             2\n",
      "Name: count, Length: 159, dtype: int64\n"
     ]
    },
    {
     "name": "stderr",
     "output_type": "stream",
     "text": [
      "/tmp/ipykernel_13952/3383076537.py:10: FutureWarning: DataFrameGroupBy.apply operated on the grouping columns. This behavior is deprecated, and in a future version of pandas the grouping columns will be excluded from the operation. Either pass `include_groups=False` to exclude the groupings or explicitly select the grouping columns after groupby to silence this warning.\n",
      "  .apply(lambda x: x.sample(n=n, random_state=seed) if len(x) >= n else x)\n"
     ]
    }
   ],
   "source": [
    "n = 1000\n",
    "seed = 42\n",
    "np.random.seed(seed)\n",
    "\n",
    "df_sampled = (\n",
    "    combined_df\n",
    "    .query(\"is_html==True\")\n",
    "    .remove_columns(\"is_html\")\n",
    "    .groupby(\"country\")\n",
    "    .apply(lambda x: x.sample(n=n, random_state=seed) if len(x) >= n else x)\n",
    "    .reset_index(drop=True)\n",
    ")\n",
    "\n",
    "print(df_sampled[\"country\"].value_counts())"
   ]
  },
  {
   "cell_type": "code",
   "execution_count": 9,
   "id": "75d6ad53-56f1-43dd-a4f7-010d02bde02a",
   "metadata": {
    "ExecuteTime": {
     "end_time": "2025-07-14T12:10:49.930200Z",
     "start_time": "2025-07-14T12:10:48.658345Z"
    }
   },
   "outputs": [],
   "source": [
    "df_sampled.to_csv(\"../data/common_crawl_sample_n1000.csv\", index=False)"
   ]
  },
  {
   "cell_type": "code",
   "execution_count": 8,
   "id": "04181156",
   "metadata": {
    "ExecuteTime": {
     "end_time": "2025-07-14T12:10:33.686164Z",
     "start_time": "2025-07-14T12:10:33.683575Z"
    }
   },
   "outputs": [],
   "source": [
    "# We had to take out row 6293 as GitHub felt a key was being committed"
   ]
  },
  {
   "cell_type": "code",
   "execution_count": null,
   "id": "79a3d22c-a66b-48f1-89c5-a4b7620d164e",
   "metadata": {},
   "outputs": [],
   "source": []
  }
 ],
 "metadata": {
  "kernelspec": {
   "display_name": "Python (venv_prigov)",
   "language": "python",
   "name": "venv_prigov"
  },
  "language_info": {
   "codemirror_mode": {
    "name": "ipython",
    "version": 3
   },
   "file_extension": ".py",
   "mimetype": "text/x-python",
   "name": "python",
   "nbconvert_exporter": "python",
   "pygments_lexer": "ipython3",
   "version": "3.10.11"
  },
  "toc": {
   "base_numbering": 1,
   "nav_menu": {},
   "number_sections": true,
   "sideBar": true,
   "skip_h1_title": false,
   "title_cell": "Table of Contents",
   "title_sidebar": "Contents",
   "toc_cell": false,
   "toc_position": {},
   "toc_section_display": true,
   "toc_window_display": false
  }
 },
 "nbformat": 4,
 "nbformat_minor": 5
}
