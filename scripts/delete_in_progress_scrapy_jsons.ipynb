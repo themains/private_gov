{
 "cells": [
  {
   "cell_type": "code",
   "execution_count": 6,
   "id": "9f032c6b",
   "metadata": {},
   "outputs": [
    {
     "name": "stdout",
     "output_type": "stream",
     "text": [
      "Total in-progress JSON files deleted: 0\n"
     ]
    }
   ],
   "source": [
    "import os\n",
    "import json\n",
    "\n",
    "# Folder containing the JSON files\n",
    "json_folder = \"../data/us_blacklight_json\"\n",
    "\n",
    "# Counter for deleted files\n",
    "deleted_files_count = 0\n",
    "\n",
    "# Iterate over JSON files\n",
    "for filename in os.listdir(json_folder):\n",
    "    if filename.endswith(\".json\"):\n",
    "        file_path = os.path.join(json_folder, filename)\n",
    "        \n",
    "        try:\n",
    "            with open(file_path, 'r') as f:\n",
    "                data = json.load(f)\n",
    "            \n",
    "            # Check if the status is \"in-progress\"\n",
    "            if data.get(\"status\") == \"in-progress\":\n",
    "                os.remove(file_path)\n",
    "                deleted_files_count += 1\n",
    "                print(f\"Deleted: {file_path}\")\n",
    "        \n",
    "        except Exception as e:\n",
    "            print(f\"Error processing file {filename}: {e}\")\n",
    "\n",
    "print(f\"Total in-progress JSON files deleted: {deleted_files_count}\")"
   ]
  },
  {
   "cell_type": "code",
   "execution_count": null,
   "id": "77384676",
   "metadata": {},
   "outputs": [],
   "source": []
  }
 ],
 "metadata": {
  "kernelspec": {
   "display_name": "Python 3 (ipykernel)",
   "language": "python",
   "name": "python3"
  },
  "language_info": {
   "codemirror_mode": {
    "name": "ipython",
    "version": 3
   },
   "file_extension": ".py",
   "mimetype": "text/x-python",
   "name": "python",
   "nbconvert_exporter": "python",
   "pygments_lexer": "ipython3",
   "version": "3.9.13"
  }
 },
 "nbformat": 4,
 "nbformat_minor": 5
}
