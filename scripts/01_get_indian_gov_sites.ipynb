{
 "cells": [
  {
   "cell_type": "markdown",
   "id": "f6632402",
   "metadata": {},
   "source": [
    "### Indian Gov. Websites\n",
    "\n",
    "https://igod.gov.in/sectors"
   ]
  },
  {
   "cell_type": "code",
   "execution_count": null,
   "id": "6e045046",
   "metadata": {},
   "outputs": [],
   "source": [
    "from selenium import webdriver\n",
    "from selenium.webdriver.firefox.options import Options\n",
    "from selenium.webdriver.common.by import By\n",
    "import pandas as pd\n",
    "import time\n",
    "import logging\n",
    "from bs4 import BeautifulSoup\n",
    "import requests\n",
    "import urllib3"
   ]
  },
  {
   "cell_type": "code",
   "execution_count": null,
   "id": "feba7d1a",
   "metadata": {},
   "outputs": [],
   "source": [
    "urllib3.disable_warnings()\n",
    "logging.basicConfig(\n",
    "    level=logging.INFO,\n",
    "    format='%(asctime)s - %(levelname)s - %(message)s'\n",
    ")"
   ]
  },
  {
   "cell_type": "code",
   "execution_count": null,
   "id": "9da47047",
   "metadata": {},
   "outputs": [],
   "source": [
    "def get_sector_links(url):\n",
    "    headers = {'User-Agent': 'Mozilla/5.0 (Windows NT 10.0; Win64; x64) Chrome/91.0.4472.124 Safari/537.36'}\n",
    "    response = requests.get(url, headers=headers, verify=False)\n",
    "    soup = BeautifulSoup(response.text, 'html.parser')\n",
    "    \n",
    "    sectors = []\n",
    "    for sector_box in soup.find_all('a', class_='sector-box'):\n",
    "        sectors.append({\n",
    "            'title': sector_box.get('title'),\n",
    "            'url': sector_box.get('href'),\n",
    "            'image_url': sector_box.find('img').get('src')\n",
    "        })\n",
    "    \n",
    "    df = pd.DataFrame(sectors)\n",
    "    df.to_csv('../data/in_sector_links.csv', index=False)\n",
    "    return df\n",
    "\n",
    "def extract_websites_from_page(url, sector_title):\n",
    "    options = Options()\n",
    "    options.add_argument('--headless')\n",
    "    \n",
    "    try:\n",
    "        driver = webdriver.Firefox(options=options)\n",
    "        driver.get(url)\n",
    "        time.sleep(2)\n",
    "        \n",
    "        prev_height = 0\n",
    "        sites = []\n",
    "        \n",
    "        while True:\n",
    "            driver.execute_script(\"window.scrollTo(0, document.body.scrollHeight);\")\n",
    "            time.sleep(2)\n",
    "            \n",
    "            new_height = driver.execute_script(\"return document.body.scrollHeight\")\n",
    "            \n",
    "            rows = driver.find_elements(By.CLASS_NAME, 'search-result-row')\n",
    "            for row in rows:\n",
    "                try:\n",
    "                    link = row.find_element(By.CLASS_NAME, 'search-title')\n",
    "                    sites.append({\n",
    "                        'sector': sector_title,\n",
    "                        'name': link.text.strip(),\n",
    "                        'url': link.get_attribute('href') if link.tag_name == 'a' else ''\n",
    "                    })\n",
    "                except:\n",
    "                    continue\n",
    "            \n",
    "            if new_height == prev_height:\n",
    "                break\n",
    "                \n",
    "            prev_height = new_height\n",
    "            \n",
    "        sites = [dict(t) for t in {tuple(d.items()) for d in sites}]\n",
    "        logging.info(f\"Extracted {len(sites)} links from {sector_title}\")\n",
    "        return sites\n",
    "        \n",
    "    except Exception as e:\n",
    "        logging.error(f\"Error processing {url}: {str(e)}\")\n",
    "        return []\n",
    "        \n",
    "    finally:\n",
    "        if 'driver' in locals():\n",
    "            driver.quit()"
   ]
  },
  {
   "cell_type": "code",
   "execution_count": null,
   "id": "32933e8b",
   "metadata": {},
   "outputs": [],
   "source": [
    "def main():\n",
    "    sector_df = get_sector_links('https://igod.gov.in/sectors')\n",
    "    logging.info(f\"Found {len(sector_df)} sectors\")\n",
    "    \n",
    "    all_sites = []\n",
    "    for _, row in sector_df.iterrows():\n",
    "        sites = extract_websites_from_page(row['url'], row['title'])\n",
    "        all_sites.extend(sites)\n",
    "        \n",
    "        current_df = pd.DataFrame(all_sites)\n",
    "        current_df.to_csv('../data/in_gov_domain_list.csv', index=False)\n",
    "        logging.info(f\"Saved {len(current_df)} organizations so far\")\n",
    "        time.sleep(1)\n",
    "    \n",
    "    final_df = pd.DataFrame(all_sites)\n",
    "    print(f\"\\nTotal organizations found: {len(final_df)}\")\n",
    "    return final_df\n",
    "\n",
    "if __name__ == \"__main__\":\n",
    "    df = main()"
   ]
  }
 ],
 "metadata": {
  "kernelspec": {
   "display_name": "Python 3 (ipykernel)",
   "language": "python",
   "name": "python3"
  },
  "language_info": {
   "codemirror_mode": {
    "name": "ipython",
    "version": 3
   },
   "file_extension": ".py",
   "mimetype": "text/x-python",
   "name": "python",
   "nbconvert_exporter": "python",
   "pygments_lexer": "ipython3",
   "version": "3.9.13"
  }
 },
 "nbformat": 4,
 "nbformat_minor": 5
}
