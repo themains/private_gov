{
 "cells": [
  {
   "cell_type": "markdown",
   "id": "483cd17a-9f6c-4053-80dd-db96f33ad28d",
   "metadata": {},
   "source": [
    "### Common Crawl Collapse"
   ]
  },
  {
   "cell_type": "code",
   "execution_count": 10,
   "id": "1f54686c-a4f9-492c-9e3d-ee0bfed26829",
   "metadata": {},
   "outputs": [],
   "source": [
    "import os\n",
    "import numpy as np\n",
    "import pandas as pd\n",
    "from pathlib import Path"
   ]
  },
  {
   "cell_type": "code",
   "execution_count": 5,
   "id": "f611aead-bcca-42ce-84ce-509253850510",
   "metadata": {},
   "outputs": [],
   "source": [
    "def combine_parquet_files_to_df(parquet_folder):\n",
    "    \"\"\"\n",
    "    Iterates over all Parquet files in the specified folder and combines them into a single DataFrame.\n",
    "\n",
    "    Args:\n",
    "        parquet_folder (str): Path to the folder containing Parquet files.\n",
    "\n",
    "    Returns:\n",
    "        pandas.DataFrame: The combined DataFrame.\n",
    "    \"\"\"\n",
    "    folder = Path(parquet_folder)\n",
    "    parquet_files = list(folder.glob(\"*.parquet\"))\n",
    "    print(f\"Found {len(parquet_files)} Parquet files to process.\")\n",
    "\n",
    "    df_list = []\n",
    "    for file in parquet_files:\n",
    "        try:\n",
    "            df = pd.read_parquet(file)\n",
    "            df_list.append(df)\n",
    "        except Exception as e:\n",
    "            print(f\"Error reading {file}: {e}\")\n",
    "\n",
    "    combined_df = pd.concat(df_list, ignore_index=True)\n",
    "    return combined_df"
   ]
  },
  {
   "cell_type": "code",
   "execution_count": 6,
   "id": "2801114e-1e5f-457d-89ed-5b7e6784660c",
   "metadata": {},
   "outputs": [
    {
     "name": "stdout",
     "output_type": "stream",
     "text": [
      "Found 167 Parquet files to process.\n",
      "Combined DataFrame shape: (27190255, 16)\n"
     ]
    }
   ],
   "source": [
    "folder_path = \"../data/common_crawl\"\n",
    "combined_df = combine_parquet_files_to_df(folder_path)\n",
    "print(f\"Combined DataFrame shape: {combined_df.shape}\")"
   ]
  },
  {
   "cell_type": "code",
   "execution_count": 8,
   "id": "d23a5453-f4ff-42a7-8795-fb9f1384d991",
   "metadata": {},
   "outputs": [
    {
     "data": {
      "text/plain": [
       "Index(['urlkey', 'timestamp', 'url', 'mime', 'mime-detected', 'status',\n",
       "       'digest', 'length', 'offset', 'filename', 'country', 'pattern',\n",
       "       'languages', 'encoding', 'redirect', 'truncated'],\n",
       "      dtype='object')"
      ]
     },
     "execution_count": 8,
     "metadata": {},
     "output_type": "execute_result"
    }
   ],
   "source": [
    "combined_df.columns"
   ]
  },
  {
   "cell_type": "code",
   "execution_count": 11,
   "id": "e8962c31-bdf3-4346-a873-bca6f6ad7b15",
   "metadata": {},
   "outputs": [
    {
     "name": "stderr",
     "output_type": "stream",
     "text": [
      "/var/folders/2p/6m62flgx7677h842nfsgzgvh0000gn/T/ipykernel_13362/2059176665.py:5: DeprecationWarning: DataFrameGroupBy.apply operated on the grouping columns. This behavior is deprecated, and in a future version of pandas the grouping columns will be excluded from the operation. Either pass `include_groups=False` to exclude the groupings or explicitly select the grouping columns after groupby to silence this warning.\n",
      "  .apply(lambda x: x.sample(n=100, random_state=42) if len(x) >= 100 else x)\n"
     ]
    },
    {
     "name": "stdout",
     "output_type": "stream",
     "text": [
      "country\n",
      "Afghanistan        100\n",
      "Peru               100\n",
      "North Macedonia    100\n",
      "Norway             100\n",
      "Oman               100\n",
      "                  ... \n",
      "Indonesia          100\n",
      "Zimbabwe           100\n",
      "Denmark             72\n",
      "Guinea-Bissau        8\n",
      "Finland              4\n",
      "Name: count, Length: 159, dtype: int64\n"
     ]
    }
   ],
   "source": [
    "np.random.seed(42)\n",
    "\n",
    "df_sampled = (\n",
    "    df.groupby('country', group_keys=False, include_groups=False)\n",
    "      .apply(lambda x: x.sample(n=100, random_state=42) if len(x) >= 100 else x)\n",
    "      .reset_index(drop=True)\n",
    ")\n",
    "\n",
    "print(df_sampled['country'].value_counts())"
   ]
  },
  {
   "cell_type": "code",
   "execution_count": 14,
   "id": "75d6ad53-56f1-43dd-a4f7-010d02bde02a",
   "metadata": {},
   "outputs": [],
   "source": [
    "df_sampled.to_csv(\"../data/common_crawl_sample.csv\", index = False)"
   ]
  },
  {
   "cell_type": "code",
   "execution_count": 13,
   "id": "e76e3b9f-9f6f-474f-94f0-0c7f1a364036",
   "metadata": {},
   "outputs": [
    {
     "data": {
      "text/html": [
       "<div>\n",
       "<style scoped>\n",
       "    .dataframe tbody tr th:only-of-type {\n",
       "        vertical-align: middle;\n",
       "    }\n",
       "\n",
       "    .dataframe tbody tr th {\n",
       "        vertical-align: top;\n",
       "    }\n",
       "\n",
       "    .dataframe thead th {\n",
       "        text-align: right;\n",
       "    }\n",
       "</style>\n",
       "<table border=\"1\" class=\"dataframe\">\n",
       "  <thead>\n",
       "    <tr style=\"text-align: right;\">\n",
       "      <th></th>\n",
       "      <th>urlkey</th>\n",
       "      <th>timestamp</th>\n",
       "      <th>url</th>\n",
       "      <th>mime</th>\n",
       "      <th>mime-detected</th>\n",
       "      <th>status</th>\n",
       "      <th>digest</th>\n",
       "      <th>length</th>\n",
       "      <th>offset</th>\n",
       "      <th>filename</th>\n",
       "      <th>country</th>\n",
       "      <th>pattern</th>\n",
       "      <th>languages</th>\n",
       "      <th>encoding</th>\n",
       "      <th>redirect</th>\n",
       "      <th>truncated</th>\n",
       "    </tr>\n",
       "  </thead>\n",
       "  <tbody>\n",
       "    <tr>\n",
       "      <th>0</th>\n",
       "      <td>gm,gov)/judiciary</td>\n",
       "      <td>20240720034606</td>\n",
       "      <td>http://www.gov.gm/judiciary/</td>\n",
       "      <td>text/html</td>\n",
       "      <td>text/html</td>\n",
       "      <td>404</td>\n",
       "      <td>2ZF25EIJD3NGU5JS5PWANKTQRE5XTYPY</td>\n",
       "      <td>650</td>\n",
       "      <td>1528852</td>\n",
       "      <td>crawl-data/CC-MAIN-2024-30/segments/1720763514...</td>\n",
       "      <td>Gambia</td>\n",
       "      <td>*.gov.gm</td>\n",
       "      <td>None</td>\n",
       "      <td>None</td>\n",
       "      <td>None</td>\n",
       "      <td>None</td>\n",
       "    </tr>\n",
       "    <tr>\n",
       "      <th>1</th>\n",
       "      <td>gm,gov)/robots.txt</td>\n",
       "      <td>20240720034606</td>\n",
       "      <td>http://www.gov.gm/robots.txt</td>\n",
       "      <td>text/html</td>\n",
       "      <td>text/html</td>\n",
       "      <td>404</td>\n",
       "      <td>2ZF25EIJD3NGU5JS5PWANKTQRE5XTYPY</td>\n",
       "      <td>653</td>\n",
       "      <td>399344</td>\n",
       "      <td>crawl-data/CC-MAIN-2024-30/segments/1720763514...</td>\n",
       "      <td>Gambia</td>\n",
       "      <td>*.gov.gm</td>\n",
       "      <td>None</td>\n",
       "      <td>None</td>\n",
       "      <td>None</td>\n",
       "      <td>None</td>\n",
       "    </tr>\n",
       "    <tr>\n",
       "      <th>2</th>\n",
       "      <td>gm,gov,digitaladdressing)/</td>\n",
       "      <td>20240718115104</td>\n",
       "      <td>https://digitaladdressing.gov.gm/</td>\n",
       "      <td>text/html</td>\n",
       "      <td>text/html</td>\n",
       "      <td>200</td>\n",
       "      <td>K7MSSRWHMMGTZHLDDBX5NREGYSUGDC5X</td>\n",
       "      <td>30224</td>\n",
       "      <td>186502637</td>\n",
       "      <td>crawl-data/CC-MAIN-2024-30/segments/1720763514...</td>\n",
       "      <td>Gambia</td>\n",
       "      <td>*.gov.gm</td>\n",
       "      <td>eng</td>\n",
       "      <td>UTF-8</td>\n",
       "      <td>None</td>\n",
       "      <td>None</td>\n",
       "    </tr>\n",
       "    <tr>\n",
       "      <th>3</th>\n",
       "      <td>gm,gov,digitaladdressing)/</td>\n",
       "      <td>20240718212536</td>\n",
       "      <td>https://digitaladdressing.gov.gm/</td>\n",
       "      <td>text/html</td>\n",
       "      <td>text/html</td>\n",
       "      <td>200</td>\n",
       "      <td>GSRB2ESUXBQRZR7CKAOKNFU7V7VN2MZK</td>\n",
       "      <td>30222</td>\n",
       "      <td>178330155</td>\n",
       "      <td>crawl-data/CC-MAIN-2024-30/segments/1720763514...</td>\n",
       "      <td>Gambia</td>\n",
       "      <td>*.gov.gm</td>\n",
       "      <td>eng</td>\n",
       "      <td>UTF-8</td>\n",
       "      <td>None</td>\n",
       "      <td>None</td>\n",
       "    </tr>\n",
       "    <tr>\n",
       "      <th>4</th>\n",
       "      <td>gm,gov,digitaladdressing)/board-of-directors</td>\n",
       "      <td>20240718113824</td>\n",
       "      <td>https://digitaladdressing.gov.gm/board-of-dire...</td>\n",
       "      <td>text/html</td>\n",
       "      <td>text/html</td>\n",
       "      <td>404</td>\n",
       "      <td>HXDMPBWAFVWOUBAZ7BIEKLZCLFFVJVM4</td>\n",
       "      <td>20234</td>\n",
       "      <td>6818213</td>\n",
       "      <td>crawl-data/CC-MAIN-2024-30/segments/1720763514...</td>\n",
       "      <td>Gambia</td>\n",
       "      <td>*.gov.gm</td>\n",
       "      <td>None</td>\n",
       "      <td>None</td>\n",
       "      <td>None</td>\n",
       "      <td>None</td>\n",
       "    </tr>\n",
       "  </tbody>\n",
       "</table>\n",
       "</div>"
      ],
      "text/plain": [
       "                                         urlkey       timestamp  \\\n",
       "0                             gm,gov)/judiciary  20240720034606   \n",
       "1                            gm,gov)/robots.txt  20240720034606   \n",
       "2                    gm,gov,digitaladdressing)/  20240718115104   \n",
       "3                    gm,gov,digitaladdressing)/  20240718212536   \n",
       "4  gm,gov,digitaladdressing)/board-of-directors  20240718113824   \n",
       "\n",
       "                                                 url       mime mime-detected  \\\n",
       "0                       http://www.gov.gm/judiciary/  text/html     text/html   \n",
       "1                       http://www.gov.gm/robots.txt  text/html     text/html   \n",
       "2                  https://digitaladdressing.gov.gm/  text/html     text/html   \n",
       "3                  https://digitaladdressing.gov.gm/  text/html     text/html   \n",
       "4  https://digitaladdressing.gov.gm/board-of-dire...  text/html     text/html   \n",
       "\n",
       "  status                            digest length     offset  \\\n",
       "0    404  2ZF25EIJD3NGU5JS5PWANKTQRE5XTYPY    650    1528852   \n",
       "1    404  2ZF25EIJD3NGU5JS5PWANKTQRE5XTYPY    653     399344   \n",
       "2    200  K7MSSRWHMMGTZHLDDBX5NREGYSUGDC5X  30224  186502637   \n",
       "3    200  GSRB2ESUXBQRZR7CKAOKNFU7V7VN2MZK  30222  178330155   \n",
       "4    404  HXDMPBWAFVWOUBAZ7BIEKLZCLFFVJVM4  20234    6818213   \n",
       "\n",
       "                                            filename country   pattern  \\\n",
       "0  crawl-data/CC-MAIN-2024-30/segments/1720763514...  Gambia  *.gov.gm   \n",
       "1  crawl-data/CC-MAIN-2024-30/segments/1720763514...  Gambia  *.gov.gm   \n",
       "2  crawl-data/CC-MAIN-2024-30/segments/1720763514...  Gambia  *.gov.gm   \n",
       "3  crawl-data/CC-MAIN-2024-30/segments/1720763514...  Gambia  *.gov.gm   \n",
       "4  crawl-data/CC-MAIN-2024-30/segments/1720763514...  Gambia  *.gov.gm   \n",
       "\n",
       "  languages encoding redirect truncated  \n",
       "0      None     None     None      None  \n",
       "1      None     None     None      None  \n",
       "2       eng    UTF-8     None      None  \n",
       "3       eng    UTF-8     None      None  \n",
       "4      None     None     None      None  "
      ]
     },
     "execution_count": 13,
     "metadata": {},
     "output_type": "execute_result"
    }
   ],
   "source": [
    "combined_df.head()"
   ]
  },
  {
   "cell_type": "code",
   "execution_count": null,
   "id": "f973fb9a-4c98-4faa-9f98-00a9520f96e3",
   "metadata": {},
   "outputs": [],
   "source": []
  }
 ],
 "metadata": {
  "kernelspec": {
   "display_name": "Python 3.11 (Data Science)",
   "language": "python",
   "name": "py311ds"
  },
  "language_info": {
   "codemirror_mode": {
    "name": "ipython",
    "version": 3
   },
   "file_extension": ".py",
   "mimetype": "text/x-python",
   "name": "python",
   "nbconvert_exporter": "python",
   "pygments_lexer": "ipython3",
   "version": "3.11.11"
  }
 },
 "nbformat": 4,
 "nbformat_minor": 5
}
